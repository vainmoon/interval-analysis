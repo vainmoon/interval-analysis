{
 "cells": [
  {
   "cell_type": "code",
   "execution_count": 44,
   "metadata": {
    "collapsed": true,
    "ExecuteTime": {
     "end_time": "2024-12-08T14:38:29.096851200Z",
     "start_time": "2024-12-08T14:38:29.021072200Z"
    }
   },
   "outputs": [],
   "source": [
    "import struct\n",
    "import numpy as np\n",
    "import intvalpy as ip\n",
    "from functools import cmp_to_key"
   ]
  },
  {
   "cell_type": "code",
   "execution_count": 45,
   "outputs": [],
   "source": [
    "def read_bin_file_with_numpy(file_path):\n",
    "  with open(file_path, 'rb') as f:\n",
    "    header_data = f.read(256)\n",
    "    side, mode, frame_count = struct.unpack('<BBH', header_data[:4])\n",
    "\n",
    "    frames = []\n",
    "    point_dtype = np.dtype('<8H')\n",
    "\n",
    "    for _ in range(frame_count):\n",
    "      frame_header_data = f.read(16)\n",
    "      stop_point, timestamp = struct.unpack('<HL', frame_header_data[:6])\n",
    "      frame_data = np.frombuffer(f.read(1024 * 16), dtype=point_dtype)\n",
    "      frames.append(frame_data)\n",
    "\n",
    "    return np.array(frames)"
   ],
   "metadata": {
    "collapsed": false,
    "ExecuteTime": {
     "end_time": "2024-12-08T14:38:29.096851200Z",
     "start_time": "2024-12-08T14:38:29.034077300Z"
    }
   }
  },
  {
   "cell_type": "code",
   "execution_count": 46,
   "outputs": [],
   "source": [
    "def convert_to_voltage(data):\n",
    "  return data / 16384.0 - 0.5"
   ],
   "metadata": {
    "collapsed": false,
    "ExecuteTime": {
     "end_time": "2024-12-08T14:38:29.096851200Z",
     "start_time": "2024-12-08T14:38:29.048074300Z"
    }
   }
  },
  {
   "cell_type": "code",
   "execution_count": 47,
   "outputs": [],
   "source": [
    "def are_intersected(x, y):\n",
    "  sup = y.a if x.a < y.a else x.a\n",
    "  inf = x.b if x.b < y.b else y.b\n",
    "  return sup - inf <= 1e-15"
   ],
   "metadata": {
    "collapsed": false,
    "ExecuteTime": {
     "end_time": "2024-12-08T14:38:29.097854400Z",
     "start_time": "2024-12-08T14:38:29.066072700Z"
    }
   }
  },
  {
   "cell_type": "code",
   "execution_count": 48,
   "outputs": [],
   "source": [
    "def are_adjusted_to_each_other(x, y):\n",
    "  return x.b == y.a or y.b == x.a"
   ],
   "metadata": {
    "collapsed": false,
    "ExecuteTime": {
     "end_time": "2024-12-08T14:38:29.097854400Z",
     "start_time": "2024-12-08T14:38:29.079853600Z"
    }
   }
  },
  {
   "cell_type": "code",
   "execution_count": 49,
   "outputs": [],
   "source": [
    "def merge_intervals(x, y):\n",
    "  return ip.Interval(min(x.a, y.a), max(x.b, y.b))"
   ],
   "metadata": {
    "collapsed": false,
    "ExecuteTime": {
     "end_time": "2024-12-08T14:38:29.108853100Z",
     "start_time": "2024-12-08T14:38:29.094853800Z"
    }
   }
  },
  {
   "cell_type": "code",
   "execution_count": 50,
   "outputs": [],
   "source": [
    "def mode(x):\n",
    "  if len(x) == 0:\n",
    "    return []\n",
    "\n",
    "  edges = sorted({x_i.a for x_i in x}.union({x_i.b for x_i in x}))\n",
    "  z = [ip.Interval(edges[i], edges[i + 1]) for i in range(len(edges) - 1)]\n",
    "  mu = [sum(1 for x_i in x if z_i in x_i) for z_i in z]\n",
    "\n",
    "  max_mu = max(mu)\n",
    "  K = [index for index, element in enumerate(mu) if element == max_mu]\n",
    "\n",
    "  m = [z[k] for k in K]\n",
    "  merged_m = []\n",
    "\n",
    "  current_interval = m[0]\n",
    "\n",
    "  for next_interval in m[1:]:\n",
    "    if are_intersected(current_interval, next_interval) or are_adjusted_to_each_other(current_interval, next_interval):\n",
    "      current_interval = merge_intervals(current_interval, next_interval)\n",
    "    else:\n",
    "      merged_m.append(current_interval)\n",
    "      current_interval = next_interval\n",
    "\n",
    "  merged_m.append(current_interval)\n",
    "\n",
    "  return merged_m"
   ],
   "metadata": {
    "collapsed": false,
    "ExecuteTime": {
     "end_time": "2024-12-08T14:38:29.141853800Z",
     "start_time": "2024-12-08T14:38:29.113853Z"
    }
   }
  },
  {
   "cell_type": "code",
   "execution_count": 51,
   "outputs": [],
   "source": [
    "def med_k(x):\n",
    "  starts = [float(interval.a) for interval in x]\n",
    "  ends = [float(interval.b) for interval in x]\n",
    "  return ip.Interval(np.median(starts), np.median(ends))"
   ],
   "metadata": {
    "collapsed": false,
    "ExecuteTime": {
     "end_time": "2024-12-08T14:38:29.143853300Z",
     "start_time": "2024-12-08T14:38:29.124852900Z"
    }
   }
  },
  {
   "cell_type": "code",
   "execution_count": 52,
   "outputs": [],
   "source": [
    "def med_p(x):\n",
    "  x = sorted(x, key=cmp_to_key(lambda x, y: (x.a + x.b) / 2 - (y.a + y.b) / 2))\n",
    "\n",
    "  mid_index = len(x) // 2\n",
    "\n",
    "  if len(x) % 2 == 0:\n",
    "    return (x[mid_index - 1] + x[mid_index]) / 2\n",
    "\n",
    "  return x[mid_index]"
   ],
   "metadata": {
    "collapsed": false,
    "ExecuteTime": {
     "end_time": "2024-12-08T14:38:29.154851800Z",
     "start_time": "2024-12-08T14:38:29.142855400Z"
    }
   }
  },
  {
   "cell_type": "code",
   "execution_count": 53,
   "outputs": [],
   "source": [
    "def jaccard_index(*args):\n",
    "  if len(args) == 1:\n",
    "    x = args[0]\n",
    "    left_edges = [interval.a for interval in x]\n",
    "    right_edges = [interval.b for interval in x]\n",
    "\n",
    "    return (min(right_edges) - max(left_edges)) / (max(right_edges) - min(left_edges))\n",
    "  elif len(args) == 2:\n",
    "    x = args[0]\n",
    "    y = args[1]\n",
    "\n",
    "    if isinstance(x, ip.ClassicalArithmetic) and isinstance(y, ip.ClassicalArithmetic):\n",
    "      return (min(x.b, y.b) - max(x.a, y.a)) / (max(x.b, y.b) - min(x.a, y.a))\n",
    "    else:\n",
    "      results = []\n",
    "\n",
    "      for x_i, y_i in zip(x, y):\n",
    "        result = (min(x_i.b, y_i.b) - max(x_i.a, y_i.a)) / (max(x_i.b, y_i.b) - min(x_i.a, y_i.a))\n",
    "        results.append(result)\n",
    "\n",
    "      return np.array(results)\n",
    "  else:\n",
    "    raise ValueError(\"Wrong number of arguments\")"
   ],
   "metadata": {
    "collapsed": false,
    "ExecuteTime": {
     "end_time": "2024-12-08T14:38:29.180852Z",
     "start_time": "2024-12-08T14:38:29.159857100Z"
    }
   }
  },
  {
   "cell_type": "code",
   "execution_count": 54,
   "outputs": [],
   "source": [
    "def ternary_search(f, left, right, eps):\n",
    "  while right - left > eps:\n",
    "    m1 = left + (right - left) / 3\n",
    "    m2 = right - (right - left) / 3\n",
    "\n",
    "    if f(m1) < f(m2):\n",
    "      left = m1\n",
    "    else:\n",
    "      right = m2\n",
    "\n",
    "  return (left + right) / 2"
   ],
   "metadata": {
    "collapsed": false,
    "ExecuteTime": {
     "end_time": "2024-12-08T14:38:29.185854500Z",
     "start_time": "2024-12-08T14:38:29.169852500Z"
    }
   }
  },
  {
   "cell_type": "code",
   "execution_count": 55,
   "outputs": [],
   "source": [
    "def estimate_a(a):\n",
    "  return np.mean(jaccard_index(x_voltage_int_flatten + a, y_voltage_int_flatten))\n",
    "\n",
    "def estimate_t(t):\n",
    "  return np.mean(jaccard_index(x_voltage_int_flatten * t, y_voltage_int_flatten))\n",
    "\n",
    "def estimate_a_mode(a):\n",
    "  return np.mean(jaccard_index(mode(x_voltage_int_flatten + a), mode(y_voltage_int_flatten)))\n",
    "\n",
    "def estimate_t_mode(t):\n",
    "  x = mode(x_voltage_int_flatten * t)\n",
    "  x_idx = len(x) // 2\n",
    "  x = x[x_idx]\n",
    "\n",
    "  y = mode(y_voltage_int_flatten)\n",
    "  y_idx = len(y) // 2\n",
    "  y = y[y_idx]\n",
    "\n",
    "  return np.mean(jaccard_index(x, y))\n",
    "\n",
    "def estimate_a_med_p(a):\n",
    "  return np.mean(jaccard_index(med_p(x_voltage_int_flatten + a), med_p(y_voltage_int_flatten)))\n",
    "\n",
    "def estimate_t_med_p(t):\n",
    "  return np.mean(jaccard_index(med_p(x_voltage_int_flatten * t), med_p(y_voltage_int_flatten)))\n",
    "\n",
    "def estimate_a_med_k(a):\n",
    "  return np.mean(jaccard_index(med_k(x_voltage_int_flatten + a), med_k(y_voltage_int_flatten)))\n",
    "\n",
    "def estimate_t_med_k(t):\n",
    "  return np.mean(jaccard_index(med_k(x_voltage_int_flatten * t), med_k(y_voltage_int_flatten)))"
   ],
   "metadata": {
    "collapsed": false,
    "ExecuteTime": {
     "end_time": "2024-12-08T14:38:29.201852600Z",
     "start_time": "2024-12-08T14:38:29.185854500Z"
    }
   }
  },
  {
   "cell_type": "code",
   "execution_count": 56,
   "outputs": [],
   "source": [
    "def scalar_to_interval(x, rad):\n",
    "  return ip.Interval(x - rad, x + rad)\n",
    "scalar_to_interval_vec = np.vectorize(scalar_to_interval)"
   ],
   "metadata": {
    "collapsed": false,
    "ExecuteTime": {
     "end_time": "2024-12-08T14:38:29.228852300Z",
     "start_time": "2024-12-08T14:38:29.202853100Z"
    }
   }
  },
  {
   "cell_type": "code",
   "execution_count": 57,
   "outputs": [],
   "source": [
    "x_data = read_bin_file_with_numpy('-0.205_lvl_side_a_fast_data.bin')\n",
    "y_data = read_bin_file_with_numpy('0.225_lvl_side_a_fast_data.bin')"
   ],
   "metadata": {
    "collapsed": false,
    "ExecuteTime": {
     "end_time": "2024-12-08T14:38:29.247854200Z",
     "start_time": "2024-12-08T14:38:29.221852300Z"
    }
   }
  },
  {
   "cell_type": "code",
   "execution_count": 58,
   "outputs": [],
   "source": [
    "x_voltage = convert_to_voltage(x_data)\n",
    "y_voltage = convert_to_voltage(y_data)"
   ],
   "metadata": {
    "collapsed": false,
    "ExecuteTime": {
     "end_time": "2024-12-08T14:38:29.274852700Z",
     "start_time": "2024-12-08T14:38:29.247854200Z"
    }
   }
  },
  {
   "cell_type": "code",
   "execution_count": 59,
   "outputs": [],
   "source": [
    "N = -14\n",
    "rad = 2 ** N\n",
    "\n",
    "x_voltage_int = scalar_to_interval_vec(x_voltage, rad)\n",
    "y_voltage_int = scalar_to_interval_vec(y_voltage, rad)"
   ],
   "metadata": {
    "collapsed": false,
    "ExecuteTime": {
     "end_time": "2024-12-08T14:39:09.787780100Z",
     "start_time": "2024-12-08T14:38:29.263855600Z"
    }
   }
  },
  {
   "cell_type": "code",
   "execution_count": 60,
   "outputs": [],
   "source": [
    "x_voltage_int_flatten = x_voltage_int.flatten()\n",
    "y_voltage_int_flatten = y_voltage_int.flatten()"
   ],
   "metadata": {
    "collapsed": false,
    "ExecuteTime": {
     "end_time": "2024-12-08T14:39:10.866879800Z",
     "start_time": "2024-12-08T14:39:09.788780400Z"
    }
   }
  },
  {
   "cell_type": "code",
   "execution_count": 61,
   "outputs": [
    {
     "data": {
      "text/plain": "(0.34278228893567897, mpf('-0.919629440260532562156191284788837551121'))"
     },
     "execution_count": 61,
     "metadata": {},
     "output_type": "execute_result"
    }
   ],
   "source": [
    "a_1 = ternary_search(estimate_a, 0, 1, 1e-3)\n",
    "a_1, estimate_a(a_1),"
   ],
   "metadata": {
    "collapsed": false,
    "ExecuteTime": {
     "end_time": "2024-12-08T14:50:56.823972600Z",
     "start_time": "2024-12-08T14:39:10.870881400Z"
    }
   }
  },
  {
   "cell_type": "code",
   "execution_count": 62,
   "outputs": [
    {
     "data": {
      "text/plain": "(-1.014672174258512, mpf('-0.924678077162310113181913694699541018367'))"
     },
     "execution_count": 62,
     "metadata": {},
     "output_type": "execute_result"
    }
   ],
   "source": [
    "t_1 = ternary_search(estimate_t, -4, 0, 1e-3)\n",
    "t_1, estimate_t(t_1),"
   ],
   "metadata": {
    "collapsed": false,
    "ExecuteTime": {
     "end_time": "2024-12-08T15:09:23.686857700Z",
     "start_time": "2024-12-08T14:50:56.782971500Z"
    }
   }
  },
  {
   "cell_type": "code",
   "execution_count": 63,
   "outputs": [
    {
     "ename": "KeyboardInterrupt",
     "evalue": "",
     "output_type": "error",
     "traceback": [
      "\u001B[1;31m---------------------------------------------------------------------------\u001B[0m",
      "\u001B[1;31mKeyboardInterrupt\u001B[0m                         Traceback (most recent call last)",
      "Cell \u001B[1;32mIn[63], line 1\u001B[0m\n\u001B[1;32m----> 1\u001B[0m a_2 \u001B[38;5;241m=\u001B[39m \u001B[43mternary_search\u001B[49m\u001B[43m(\u001B[49m\u001B[43mestimate_a_mode\u001B[49m\u001B[43m,\u001B[49m\u001B[43m \u001B[49m\u001B[38;5;241;43m-\u001B[39;49m\u001B[38;5;241;43m4\u001B[39;49m\u001B[43m,\u001B[49m\u001B[43m \u001B[49m\u001B[38;5;241;43m4\u001B[39;49m\u001B[43m,\u001B[49m\u001B[43m \u001B[49m\u001B[38;5;241;43m1e-3\u001B[39;49m\u001B[43m)\u001B[49m\n\u001B[0;32m      2\u001B[0m a_2, estimate_a_mode(a_2)\n",
      "Cell \u001B[1;32mIn[54], line 6\u001B[0m, in \u001B[0;36mternary_search\u001B[1;34m(f, left, right, eps)\u001B[0m\n\u001B[0;32m      3\u001B[0m m1 \u001B[38;5;241m=\u001B[39m left \u001B[38;5;241m+\u001B[39m (right \u001B[38;5;241m-\u001B[39m left) \u001B[38;5;241m/\u001B[39m \u001B[38;5;241m3\u001B[39m\n\u001B[0;32m      4\u001B[0m m2 \u001B[38;5;241m=\u001B[39m right \u001B[38;5;241m-\u001B[39m (right \u001B[38;5;241m-\u001B[39m left) \u001B[38;5;241m/\u001B[39m \u001B[38;5;241m3\u001B[39m\n\u001B[1;32m----> 6\u001B[0m \u001B[38;5;28;01mif\u001B[39;00m f(m1) \u001B[38;5;241m<\u001B[39m \u001B[43mf\u001B[49m\u001B[43m(\u001B[49m\u001B[43mm2\u001B[49m\u001B[43m)\u001B[49m:\n\u001B[0;32m      7\u001B[0m   left \u001B[38;5;241m=\u001B[39m m1\n\u001B[0;32m      8\u001B[0m \u001B[38;5;28;01melse\u001B[39;00m:\n",
      "Cell \u001B[1;32mIn[55], line 8\u001B[0m, in \u001B[0;36mestimate_a_mode\u001B[1;34m(a)\u001B[0m\n\u001B[0;32m      7\u001B[0m \u001B[38;5;28;01mdef\u001B[39;00m \u001B[38;5;21mestimate_a_mode\u001B[39m(a):\n\u001B[1;32m----> 8\u001B[0m   \u001B[38;5;28;01mreturn\u001B[39;00m np\u001B[38;5;241m.\u001B[39mmean(jaccard_index(\u001B[43mmode\u001B[49m\u001B[43m(\u001B[49m\u001B[43mx_voltage_int_flatten\u001B[49m\u001B[43m \u001B[49m\u001B[38;5;241;43m+\u001B[39;49m\u001B[43m \u001B[49m\u001B[43ma\u001B[49m\u001B[43m)\u001B[49m, mode(y_voltage_int_flatten)))\n",
      "Cell \u001B[1;32mIn[50], line 7\u001B[0m, in \u001B[0;36mmode\u001B[1;34m(x)\u001B[0m\n\u001B[0;32m      5\u001B[0m edges \u001B[38;5;241m=\u001B[39m \u001B[38;5;28msorted\u001B[39m({x_i\u001B[38;5;241m.\u001B[39ma \u001B[38;5;28;01mfor\u001B[39;00m x_i \u001B[38;5;129;01min\u001B[39;00m x}\u001B[38;5;241m.\u001B[39munion({x_i\u001B[38;5;241m.\u001B[39mb \u001B[38;5;28;01mfor\u001B[39;00m x_i \u001B[38;5;129;01min\u001B[39;00m x}))\n\u001B[0;32m      6\u001B[0m z \u001B[38;5;241m=\u001B[39m [ip\u001B[38;5;241m.\u001B[39mInterval(edges[i], edges[i \u001B[38;5;241m+\u001B[39m \u001B[38;5;241m1\u001B[39m]) \u001B[38;5;28;01mfor\u001B[39;00m i \u001B[38;5;129;01min\u001B[39;00m \u001B[38;5;28mrange\u001B[39m(\u001B[38;5;28mlen\u001B[39m(edges) \u001B[38;5;241m-\u001B[39m \u001B[38;5;241m1\u001B[39m)]\n\u001B[1;32m----> 7\u001B[0m mu \u001B[38;5;241m=\u001B[39m [\u001B[38;5;28msum\u001B[39m(\u001B[38;5;241m1\u001B[39m \u001B[38;5;28;01mfor\u001B[39;00m x_i \u001B[38;5;129;01min\u001B[39;00m x \u001B[38;5;28;01mif\u001B[39;00m z_i \u001B[38;5;129;01min\u001B[39;00m x_i) \u001B[38;5;28;01mfor\u001B[39;00m z_i \u001B[38;5;129;01min\u001B[39;00m z]\n\u001B[0;32m      9\u001B[0m max_mu \u001B[38;5;241m=\u001B[39m \u001B[38;5;28mmax\u001B[39m(mu)\n\u001B[0;32m     10\u001B[0m K \u001B[38;5;241m=\u001B[39m [index \u001B[38;5;28;01mfor\u001B[39;00m index, element \u001B[38;5;129;01min\u001B[39;00m \u001B[38;5;28menumerate\u001B[39m(mu) \u001B[38;5;28;01mif\u001B[39;00m element \u001B[38;5;241m==\u001B[39m max_mu]\n",
      "Cell \u001B[1;32mIn[50], line 7\u001B[0m, in \u001B[0;36m<listcomp>\u001B[1;34m(.0)\u001B[0m\n\u001B[0;32m      5\u001B[0m edges \u001B[38;5;241m=\u001B[39m \u001B[38;5;28msorted\u001B[39m({x_i\u001B[38;5;241m.\u001B[39ma \u001B[38;5;28;01mfor\u001B[39;00m x_i \u001B[38;5;129;01min\u001B[39;00m x}\u001B[38;5;241m.\u001B[39munion({x_i\u001B[38;5;241m.\u001B[39mb \u001B[38;5;28;01mfor\u001B[39;00m x_i \u001B[38;5;129;01min\u001B[39;00m x}))\n\u001B[0;32m      6\u001B[0m z \u001B[38;5;241m=\u001B[39m [ip\u001B[38;5;241m.\u001B[39mInterval(edges[i], edges[i \u001B[38;5;241m+\u001B[39m \u001B[38;5;241m1\u001B[39m]) \u001B[38;5;28;01mfor\u001B[39;00m i \u001B[38;5;129;01min\u001B[39;00m \u001B[38;5;28mrange\u001B[39m(\u001B[38;5;28mlen\u001B[39m(edges) \u001B[38;5;241m-\u001B[39m \u001B[38;5;241m1\u001B[39m)]\n\u001B[1;32m----> 7\u001B[0m mu \u001B[38;5;241m=\u001B[39m [\u001B[38;5;28;43msum\u001B[39;49m\u001B[43m(\u001B[49m\u001B[38;5;241;43m1\u001B[39;49m\u001B[43m \u001B[49m\u001B[38;5;28;43;01mfor\u001B[39;49;00m\u001B[43m \u001B[49m\u001B[43mx_i\u001B[49m\u001B[43m \u001B[49m\u001B[38;5;129;43;01min\u001B[39;49;00m\u001B[43m \u001B[49m\u001B[43mx\u001B[49m\u001B[43m \u001B[49m\u001B[38;5;28;43;01mif\u001B[39;49;00m\u001B[43m \u001B[49m\u001B[43mz_i\u001B[49m\u001B[43m \u001B[49m\u001B[38;5;129;43;01min\u001B[39;49;00m\u001B[43m \u001B[49m\u001B[43mx_i\u001B[49m\u001B[43m)\u001B[49m \u001B[38;5;28;01mfor\u001B[39;00m z_i \u001B[38;5;129;01min\u001B[39;00m z]\n\u001B[0;32m      9\u001B[0m max_mu \u001B[38;5;241m=\u001B[39m \u001B[38;5;28mmax\u001B[39m(mu)\n\u001B[0;32m     10\u001B[0m K \u001B[38;5;241m=\u001B[39m [index \u001B[38;5;28;01mfor\u001B[39;00m index, element \u001B[38;5;129;01min\u001B[39;00m \u001B[38;5;28menumerate\u001B[39m(mu) \u001B[38;5;28;01mif\u001B[39;00m element \u001B[38;5;241m==\u001B[39m max_mu]\n",
      "Cell \u001B[1;32mIn[50], line 7\u001B[0m, in \u001B[0;36m<genexpr>\u001B[1;34m(.0)\u001B[0m\n\u001B[0;32m      5\u001B[0m edges \u001B[38;5;241m=\u001B[39m \u001B[38;5;28msorted\u001B[39m({x_i\u001B[38;5;241m.\u001B[39ma \u001B[38;5;28;01mfor\u001B[39;00m x_i \u001B[38;5;129;01min\u001B[39;00m x}\u001B[38;5;241m.\u001B[39munion({x_i\u001B[38;5;241m.\u001B[39mb \u001B[38;5;28;01mfor\u001B[39;00m x_i \u001B[38;5;129;01min\u001B[39;00m x}))\n\u001B[0;32m      6\u001B[0m z \u001B[38;5;241m=\u001B[39m [ip\u001B[38;5;241m.\u001B[39mInterval(edges[i], edges[i \u001B[38;5;241m+\u001B[39m \u001B[38;5;241m1\u001B[39m]) \u001B[38;5;28;01mfor\u001B[39;00m i \u001B[38;5;129;01min\u001B[39;00m \u001B[38;5;28mrange\u001B[39m(\u001B[38;5;28mlen\u001B[39m(edges) \u001B[38;5;241m-\u001B[39m \u001B[38;5;241m1\u001B[39m)]\n\u001B[1;32m----> 7\u001B[0m mu \u001B[38;5;241m=\u001B[39m [\u001B[38;5;28msum\u001B[39m(\u001B[38;5;241m1\u001B[39m \u001B[38;5;28;01mfor\u001B[39;00m x_i \u001B[38;5;129;01min\u001B[39;00m x \u001B[38;5;28;01mif\u001B[39;00m \u001B[43mz_i\u001B[49m\u001B[43m \u001B[49m\u001B[38;5;129;43;01min\u001B[39;49;00m\u001B[43m \u001B[49m\u001B[43mx_i\u001B[49m) \u001B[38;5;28;01mfor\u001B[39;00m z_i \u001B[38;5;129;01min\u001B[39;00m z]\n\u001B[0;32m      9\u001B[0m max_mu \u001B[38;5;241m=\u001B[39m \u001B[38;5;28mmax\u001B[39m(mu)\n\u001B[0;32m     10\u001B[0m K \u001B[38;5;241m=\u001B[39m [index \u001B[38;5;28;01mfor\u001B[39;00m index, element \u001B[38;5;129;01min\u001B[39;00m \u001B[38;5;28menumerate\u001B[39m(mu) \u001B[38;5;28;01mif\u001B[39;00m element \u001B[38;5;241m==\u001B[39m max_mu]\n",
      "File \u001B[1;32m~\\AppData\\Local\\Programs\\Python\\Python39\\lib\\site-packages\\intvalpy\\kernel\\real_intervals.py:12\u001B[0m, in \u001B[0;36mwrap_to_interval.<locals>.interval\u001B[1;34m(x, y)\u001B[0m\n\u001B[0;32m     10\u001B[0m \u001B[38;5;28;01mdef\u001B[39;00m \u001B[38;5;21minterval\u001B[39m(x, y):\n\u001B[0;32m     11\u001B[0m     \u001B[38;5;28;01mif\u001B[39;00m \u001B[38;5;28misinstance\u001B[39m(y, ARITHMETICS):\n\u001B[1;32m---> 12\u001B[0m         \u001B[38;5;28;01mreturn\u001B[39;00m \u001B[43mfunc\u001B[49m\u001B[43m(\u001B[49m\u001B[43mx\u001B[49m\u001B[43m,\u001B[49m\u001B[43m \u001B[49m\u001B[43my\u001B[49m\u001B[43m)\u001B[49m\n\u001B[0;32m     13\u001B[0m     \u001B[38;5;28;01melse\u001B[39;00m:\n\u001B[0;32m     14\u001B[0m         \u001B[38;5;28;01mreturn\u001B[39;00m func(x, SingleInterval(y, y))\n",
      "File \u001B[1;32m~\\AppData\\Local\\Programs\\Python\\Python39\\lib\\site-packages\\intvalpy\\kernel\\real_intervals.py:138\u001B[0m, in \u001B[0;36mBaseTools.__contains__\u001B[1;34m(self, other)\u001B[0m\n\u001B[0;32m    136\u001B[0m \u001B[38;5;129m@wrap_to_interval\u001B[39m\n\u001B[0;32m    137\u001B[0m \u001B[38;5;28;01mdef\u001B[39;00m \u001B[38;5;21m__contains__\u001B[39m(\u001B[38;5;28mself\u001B[39m, other):\n\u001B[1;32m--> 138\u001B[0m     \u001B[38;5;28;01mreturn\u001B[39;00m (\u001B[38;5;28;43mself\u001B[39;49m\u001B[38;5;241;43m.\u001B[39;49m\u001B[43ma\u001B[49m\u001B[43m \u001B[49m\u001B[38;5;241;43m<\u001B[39;49m\u001B[38;5;241;43m=\u001B[39;49m\u001B[43m \u001B[49m\u001B[43mother\u001B[49m\u001B[38;5;241;43m.\u001B[39;49m\u001B[43ma\u001B[49m) \u001B[38;5;129;01mand\u001B[39;00m (other\u001B[38;5;241m.\u001B[39mb \u001B[38;5;241m<\u001B[39m\u001B[38;5;241m=\u001B[39m \u001B[38;5;28mself\u001B[39m\u001B[38;5;241m.\u001B[39mb)\n",
      "File \u001B[1;32m~\\AppData\\Local\\Programs\\Python\\Python39\\lib\\site-packages\\mpmath\\ctx_mp_python.py:181\u001B[0m, in \u001B[0;36m_mpf.__le__\u001B[1;34m(s, t)\u001B[0m\n\u001B[1;32m--> 181\u001B[0m \u001B[38;5;28;01mdef\u001B[39;00m \u001B[38;5;21m__le__\u001B[39m(s, t): \u001B[38;5;28;01mreturn\u001B[39;00m \u001B[43ms\u001B[49m\u001B[38;5;241;43m.\u001B[39;49m\u001B[43m_cmp\u001B[49m\u001B[43m(\u001B[49m\u001B[43mt\u001B[49m\u001B[43m,\u001B[49m\u001B[43m \u001B[49m\u001B[43mmpf_le\u001B[49m\u001B[43m)\u001B[49m\n",
      "File \u001B[1;32m~\\AppData\\Local\\Programs\\Python\\Python39\\lib\\site-packages\\mpmath\\ctx_mp_python.py:176\u001B[0m, in \u001B[0;36m_mpf._cmp\u001B[1;34m(s, t, func)\u001B[0m\n\u001B[0;32m    174\u001B[0m     \u001B[38;5;28;01mif\u001B[39;00m t \u001B[38;5;129;01mis\u001B[39;00m \u001B[38;5;28mNotImplemented\u001B[39m:\n\u001B[0;32m    175\u001B[0m         \u001B[38;5;28;01mreturn\u001B[39;00m t\n\u001B[1;32m--> 176\u001B[0m \u001B[38;5;28;01mreturn\u001B[39;00m \u001B[43mfunc\u001B[49m\u001B[43m(\u001B[49m\u001B[43ms\u001B[49m\u001B[38;5;241;43m.\u001B[39;49m\u001B[43m_mpf_\u001B[49m\u001B[43m,\u001B[49m\u001B[43m \u001B[49m\u001B[43mt\u001B[49m\u001B[43m)\u001B[49m\n",
      "File \u001B[1;32m~\\AppData\\Local\\Programs\\Python\\Python39\\lib\\site-packages\\mpmath\\libmp\\libmpf.py:634\u001B[0m, in \u001B[0;36mmpf_le\u001B[1;34m(s, t)\u001B[0m\n\u001B[0;32m    632\u001B[0m \u001B[38;5;28;01mif\u001B[39;00m s \u001B[38;5;241m==\u001B[39m fnan \u001B[38;5;129;01mor\u001B[39;00m t \u001B[38;5;241m==\u001B[39m fnan:\n\u001B[0;32m    633\u001B[0m     \u001B[38;5;28;01mreturn\u001B[39;00m \u001B[38;5;28;01mFalse\u001B[39;00m\n\u001B[1;32m--> 634\u001B[0m \u001B[38;5;28;01mreturn\u001B[39;00m \u001B[43mmpf_cmp\u001B[49m\u001B[43m(\u001B[49m\u001B[43ms\u001B[49m\u001B[43m,\u001B[49m\u001B[43m \u001B[49m\u001B[43mt\u001B[49m\u001B[43m)\u001B[49m \u001B[38;5;241m<\u001B[39m\u001B[38;5;241m=\u001B[39m \u001B[38;5;241m0\u001B[39m\n",
      "File \u001B[1;32m~\\AppData\\Local\\Programs\\Python\\Python39\\lib\\site-packages\\mpmath\\libmp\\libmpf.py:621\u001B[0m, in \u001B[0;36mmpf_cmp\u001B[1;34m(s, t)\u001B[0m\n\u001B[0;32m    617\u001B[0m     \u001B[38;5;28;01mif\u001B[39;00m a \u001B[38;5;241m>\u001B[39m b: \u001B[38;5;28;01mreturn\u001B[39;00m \u001B[38;5;241m1\u001B[39m\n\u001B[0;32m    619\u001B[0m \u001B[38;5;66;03m# Both numbers have the same highest bit. Subtract to find\u001B[39;00m\n\u001B[0;32m    620\u001B[0m \u001B[38;5;66;03m# how the lower bits compare.\u001B[39;00m\n\u001B[1;32m--> 621\u001B[0m delta \u001B[38;5;241m=\u001B[39m \u001B[43mmpf_sub\u001B[49m\u001B[43m(\u001B[49m\u001B[43ms\u001B[49m\u001B[43m,\u001B[49m\u001B[43m \u001B[49m\u001B[43mt\u001B[49m\u001B[43m,\u001B[49m\u001B[43m \u001B[49m\u001B[38;5;241;43m5\u001B[39;49m\u001B[43m,\u001B[49m\u001B[43m \u001B[49m\u001B[43mround_floor\u001B[49m\u001B[43m)\u001B[49m\n\u001B[0;32m    622\u001B[0m \u001B[38;5;28;01mif\u001B[39;00m delta[\u001B[38;5;241m0\u001B[39m]:\n\u001B[0;32m    623\u001B[0m     \u001B[38;5;28;01mreturn\u001B[39;00m \u001B[38;5;241m-\u001B[39m\u001B[38;5;241m1\u001B[39m\n",
      "File \u001B[1;32m~\\AppData\\Local\\Programs\\Python\\Python39\\lib\\site-packages\\mpmath\\libmp\\libmpf.py:800\u001B[0m, in \u001B[0;36mmpf_sub\u001B[1;34m(s, t, prec, rnd)\u001B[0m\n\u001B[0;32m    797\u001B[0m \u001B[38;5;28;01mdef\u001B[39;00m \u001B[38;5;21mmpf_sub\u001B[39m(s, t, prec\u001B[38;5;241m=\u001B[39m\u001B[38;5;241m0\u001B[39m, rnd\u001B[38;5;241m=\u001B[39mround_fast):\n\u001B[0;32m    798\u001B[0m \u001B[38;5;250m    \u001B[39m\u001B[38;5;124;03m\"\"\"Return the difference of two raw mpfs, s-t. This function is\u001B[39;00m\n\u001B[0;32m    799\u001B[0m \u001B[38;5;124;03m    simply a wrapper of mpf_add that changes the sign of t.\"\"\"\u001B[39;00m\n\u001B[1;32m--> 800\u001B[0m     \u001B[38;5;28;01mreturn\u001B[39;00m \u001B[43mmpf_add\u001B[49m\u001B[43m(\u001B[49m\u001B[43ms\u001B[49m\u001B[43m,\u001B[49m\u001B[43m \u001B[49m\u001B[43mt\u001B[49m\u001B[43m,\u001B[49m\u001B[43m \u001B[49m\u001B[43mprec\u001B[49m\u001B[43m,\u001B[49m\u001B[43m \u001B[49m\u001B[43mrnd\u001B[49m\u001B[43m,\u001B[49m\u001B[43m \u001B[49m\u001B[38;5;241;43m1\u001B[39;49m\u001B[43m)\u001B[49m\n",
      "File \u001B[1;32m~\\AppData\\Local\\Programs\\Python\\Python39\\lib\\site-packages\\mpmath\\libmp\\libmpf.py:741\u001B[0m, in \u001B[0;36mmpf_add\u001B[1;34m(s, t, prec, rnd, _sub)\u001B[0m\n\u001B[0;32m    739\u001B[0m             ssign \u001B[38;5;241m=\u001B[39m \u001B[38;5;241m1\u001B[39m\n\u001B[0;32m    740\u001B[0m     bc \u001B[38;5;241m=\u001B[39m bitcount(man)\n\u001B[1;32m--> 741\u001B[0m     \u001B[38;5;28;01mreturn\u001B[39;00m \u001B[43mnormalize1\u001B[49m\u001B[43m(\u001B[49m\u001B[43mssign\u001B[49m\u001B[43m,\u001B[49m\u001B[43m \u001B[49m\u001B[43mman\u001B[49m\u001B[43m,\u001B[49m\u001B[43m \u001B[49m\u001B[43mtexp\u001B[49m\u001B[43m,\u001B[49m\u001B[43m \u001B[49m\u001B[43mbc\u001B[49m\u001B[43m,\u001B[49m\u001B[43m \u001B[49m\u001B[43mprec\u001B[49m\u001B[43m \u001B[49m\u001B[38;5;129;43;01mor\u001B[39;49;00m\u001B[43m \u001B[49m\u001B[43mbc\u001B[49m\u001B[43m,\u001B[49m\u001B[43m \u001B[49m\u001B[43mrnd\u001B[49m\u001B[43m)\u001B[49m\n\u001B[0;32m    742\u001B[0m \u001B[38;5;28;01melif\u001B[39;00m offset \u001B[38;5;241m<\u001B[39m \u001B[38;5;241m0\u001B[39m:\n\u001B[0;32m    743\u001B[0m     \u001B[38;5;66;03m# Outside precision range; only need to perturb\u001B[39;00m\n\u001B[0;32m    744\u001B[0m     \u001B[38;5;28;01mif\u001B[39;00m offset \u001B[38;5;241m<\u001B[39m \u001B[38;5;241m-\u001B[39m\u001B[38;5;241m100\u001B[39m \u001B[38;5;129;01mand\u001B[39;00m prec:\n",
      "File \u001B[1;32m~\\AppData\\Local\\Programs\\Python\\Python39\\lib\\site-packages\\mpmath\\libmp\\libmpf.py:245\u001B[0m, in \u001B[0;36m_normalize1\u001B[1;34m(sign, man, exp, bc, prec, rnd)\u001B[0m\n\u001B[0;32m    240\u001B[0m     bc \u001B[38;5;241m-\u001B[39m\u001B[38;5;241m=\u001B[39m t\n\u001B[0;32m    241\u001B[0m \u001B[38;5;66;03m# Bit count can be wrong if the input mantissa was 1 less than\u001B[39;00m\n\u001B[0;32m    242\u001B[0m \u001B[38;5;66;03m# a power of 2 and got rounded up, thereby adding an extra bit.\u001B[39;00m\n\u001B[0;32m    243\u001B[0m \u001B[38;5;66;03m# With trailing bits removed, all powers of two have mantissa 1,\u001B[39;00m\n\u001B[0;32m    244\u001B[0m \u001B[38;5;66;03m# so this is easy to check for.\u001B[39;00m\n\u001B[1;32m--> 245\u001B[0m \u001B[38;5;28;01mif\u001B[39;00m \u001B[43mman\u001B[49m\u001B[43m \u001B[49m\u001B[38;5;241;43m==\u001B[39;49m\u001B[43m \u001B[49m\u001B[38;5;241;43m1\u001B[39;49m:\n\u001B[0;32m    246\u001B[0m     bc \u001B[38;5;241m=\u001B[39m \u001B[38;5;241m1\u001B[39m\n\u001B[0;32m    247\u001B[0m \u001B[38;5;28;01mreturn\u001B[39;00m sign, man, exp, bc\n",
      "\u001B[1;31mKeyboardInterrupt\u001B[0m: "
     ]
    }
   ],
   "source": [
    "a_2 = ternary_search(estimate_a_mode, -4, 4, 1e-3)\n",
    "a_2, estimate_a_mode(a_2)"
   ],
   "metadata": {
    "collapsed": false,
    "ExecuteTime": {
     "end_time": "2024-12-08T22:57:12.155863600Z",
     "start_time": "2024-12-08T15:09:23.680816400Z"
    }
   }
  },
  {
   "cell_type": "code",
   "execution_count": null,
   "outputs": [],
   "source": [
    "t_2 = ternary_search(estimate_t_mode, -4, 0, 1e-3)\n",
    "t_2, estimate_t_mode(t_2)"
   ],
   "metadata": {
    "collapsed": false,
    "ExecuteTime": {
     "start_time": "2024-12-08T22:57:11.828864500Z"
    }
   }
  },
  {
   "cell_type": "code",
   "execution_count": null,
   "outputs": [],
   "source": [
    "a_3 = ternary_search(estimate_a_med_p, -4, 4, 1e-3)\n",
    "a_3, estimate_a_med_p(a_3)"
   ],
   "metadata": {
    "collapsed": false,
    "ExecuteTime": {
     "start_time": "2024-12-08T22:57:11.879863Z"
    }
   }
  },
  {
   "cell_type": "code",
   "execution_count": null,
   "outputs": [],
   "source": [
    "t_3 = ternary_search(estimate_t_med_p, -4, 0, 1e-3)\n",
    "t_3, estimate_t_med_p(t_3)"
   ],
   "metadata": {
    "collapsed": false,
    "ExecuteTime": {
     "start_time": "2024-12-08T22:57:11.887865600Z"
    }
   }
  },
  {
   "cell_type": "code",
   "execution_count": null,
   "outputs": [],
   "source": [
    "a_4 = ternary_search(estimate_a_med_k, -4, 4, 1e-3)\n",
    "a_4, estimate_a_med_k(a_4)"
   ],
   "metadata": {
    "collapsed": false,
    "ExecuteTime": {
     "start_time": "2024-12-08T22:57:11.887865600Z"
    }
   }
  },
  {
   "cell_type": "code",
   "execution_count": null,
   "outputs": [],
   "source": [
    "t_4 = ternary_search(estimate_t_med_k, -4, 0, 1e-3)\n",
    "t_4, estimate_t_med_k(t_4)"
   ],
   "metadata": {
    "collapsed": false,
    "ExecuteTime": {
     "start_time": "2024-12-08T22:57:11.887865600Z"
    }
   }
  },
  {
   "cell_type": "code",
   "execution_count": 64,
   "outputs": [],
   "source": [
    "def confidence_interval(param_estimates, alpha=0.05):\n",
    "    \"\"\"\n",
    "    Рассчитывает точечную оценку и доверительный интервал для параметров.\n",
    "\n",
    "    Параметры:\n",
    "        param_estimates: массив оценок параметра (например, a или t)\n",
    "        alpha: уровень значимости (по умолчанию 0.05)\n",
    "\n",
    "    Возвращает:\n",
    "        точечная_оценка, (нижняя_граница, верхняя_граница)\n",
    "    \"\"\"\n",
    "    mean_estimate = np.mean(param_estimates)\n",
    "    std_error = np.std(param_estimates, ddof=1) / np.sqrt(len(param_estimates))\n",
    "    z = np.norm.ppf(1 - alpha / 2)  # Квантиль стандартного нормального распределения\n",
    "    lower_bound = mean_estimate - z * std_error\n",
    "    upper_bound = mean_estimate + z * std_error\n",
    "    return mean_estimate, (lower_bound, upper_bound)"
   ],
   "metadata": {
    "collapsed": false,
    "ExecuteTime": {
     "end_time": "2024-12-09T18:52:22.352692700Z",
     "start_time": "2024-12-09T18:52:22.330968900Z"
    }
   }
  },
  {
   "cell_type": "code",
   "execution_count": null,
   "outputs": [],
   "source": [
    "results_a = []\n",
    "results_a_mode = []\n",
    "results_a_med_p = []\n",
    "results_a_med_k = []\n",
    "results_t = []\n",
    "results_t_mode = []\n",
    "results_t_med_p = []\n",
    "results_t_med_k = []\n",
    "\n",
    "# Генерируем подвыборки и проводим тернарный поиск\n",
    "# for _ in range(50):  # 100 подвыборок\n",
    "indices = np.random.choice(len(x_voltage_int_flatten), size=len(x_voltage_int_flatten), replace=True)\n",
    "x_sample = x_voltage_int_flatten[indices]\n",
    "y_sample = y_voltage_int_flatten[indices]\n",
    "\n",
    "# Оптимизация на подвыборках\n",
    "opt_a = ternary_search(lambda a: -estimate_a(a), left=0, right=1, eps=1e-1) \n",
    "opt_t = ternary_search(lambda t: -estimate_t(t), left=-4, right=0, eps=1e-1)\n",
    "opt_a_mode = ternary_search(lambda a: -estimate_a_mode(a), left=-4, right=4, eps=1e-1)\n",
    "opt_t_mode = ternary_search(lambda t: -estimate_t_mode(t), left=-4, right=0, eps=1e-1)\n",
    "opt_a_med_p = ternary_search(lambda a: -estimate_a_med_p(a), left=-4, right=4, eps=1e-1)\n",
    "opt_t_med_p = ternary_search(lambda t: -estimate_t_med_p(t), left=-4, right=0, eps=1e-1)\n",
    "opt_a_med_k = ternary_search(lambda a: -estimate_a_med_k(a), left=-4, right=4, eps=1e-1)\n",
    "opt_t_med_k = ternary_search(lambda t: -estimate_t_med_k(t), left=-4, right=0, eps=1e-1)\n",
    "results_a.append(opt_a)\n",
    "results_t.append(opt_t)\n",
    "results_a_mode.append(opt_a_mode)\n",
    "results_t_mode.append(opt_t_mode)\n",
    "results_a_med_p.append(opt_a_med_p)\n",
    "results_t_med_p.append(opt_t_med_p)\n",
    "results_a_med_k.append(opt_a_med_k)\n",
    "results_t_med_k.append(opt_t_med_k)\n",
    "\n",
    "\n",
    "# Рассчитываем доверительные интервалы\n",
    "a_mean, a_conf_int = confidence_interval(results_a, alpha=0.05)\n",
    "t_mean, t_conf_int = confidence_interval(results_t, alpha=0.05)\n",
    "\n",
    "a_mean_mode, a_conf_int_mode = confidence_interval(results_a_mode, alpha=0.05)\n",
    "t_mean_mode, t_conf_int_mode = confidence_interval(results_t_mode, alpha=0.05)\n",
    "\n",
    "a_mean_med_p, a_conf_int_med_p = confidence_interval(results_a_med_p, alpha=0.05)\n",
    "t_mean_med_p, t_conf_int_med_p = confidence_interval(results_t_med_p, alpha=0.05)\n",
    "\n",
    "a_mean_med_k, a_conf_int_med_k = confidence_interval(results_a_med_k, alpha=0.05)\n",
    "t_mean_med_k, t_conf_int_med_k = confidence_interval(results_t_med_k, alpha=0.05)\n",
    "\n",
    "print(f\"Точечная оценка a: {a_mean}, Доверительный интервал: {a_conf_int}\")\n",
    "print(f\"Точечная оценка t: {t_mean}, Доверительный интервал: {t_conf_int}\")\n",
    "\n",
    "print(f\"Точечная оценка a: {a_mean_mode}, Доверительный интервал: {a_conf_int_mode}\")\n",
    "print(f\"Точечная оценка t: {t_mean_mode}, Доверительный интервал: {t_conf_int_mode}\")\n",
    "\n",
    "print(f\"Точечная оценка a: {a_mean_med_p}, Доверительный интервал: {a_conf_int_med_p}\")\n",
    "print(f\"Точечная оценка t: {t_mean_med_p}, Доверительный интервал: {t_conf_int_med_p}\")\n",
    "\n",
    "print(f\"Точечная оценка a: {a_mean_med_k}, Доверительный интервал: {a_conf_int_med_k}\")\n",
    "print(f\"Точечная оценка t: {t_mean_med_k}, Доверительный интервал: {t_conf_int_med_k}\")"
   ],
   "metadata": {
    "collapsed": false,
    "is_executing": true,
    "ExecuteTime": {
     "start_time": "2024-12-09T18:52:48.394948400Z"
    }
   }
  }
 ],
 "metadata": {
  "kernelspec": {
   "display_name": "Python 3",
   "language": "python",
   "name": "python3"
  },
  "language_info": {
   "codemirror_mode": {
    "name": "ipython",
    "version": 2
   },
   "file_extension": ".py",
   "mimetype": "text/x-python",
   "name": "python",
   "nbconvert_exporter": "python",
   "pygments_lexer": "ipython2",
   "version": "2.7.6"
  }
 },
 "nbformat": 4,
 "nbformat_minor": 0
}
